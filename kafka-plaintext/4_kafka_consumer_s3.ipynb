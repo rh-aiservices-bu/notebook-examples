{
 "cells": [
  {
   "cell_type": "markdown",
   "metadata": {},
   "source": [
    "# Kafka Consumer Example - Saving Messages to S3 Storage\n",
    "\n",
    "For an introduction to [Kafka](https://kafka.apache.org/), you may want to read some of the main [concepts](https://kafka.apache.org/documentation/#intro_concepts_and_terms).  An **event** records the fact that \"something happened\". An event has a key, value, timestamp, and optional metadata headers. **Producers** are those client applications that publish (write) events to Kafka, and **consumers** are those that subscribe to (read and process) these events.\n",
    "\n",
    "This is an example of how to write a very simple Kafka [consumer](https://kafka-python.readthedocs.io/en/master/apidoc/KafkaConsumer.html) using the kafka-python library. It receives simple JSON formatted strings on a kafka **topic** and save them to S3 storage.  This is a single consumer, but could be part of a **consumer group**. A consumer group is a set of consumers which cooperate to consume data from some topics.\n",
    "\n",
    "For a sample producer, refer to the notebook [1_kafka_producer.ipynb](./1_kafka_producer.ipynb) to send some sample events.\n",
    "\n",
    "For further reading, visit the [documentation](https://kafka.apache.org/documentation/) for Kafka and for [kafka-python](https://kafka-python.readthedocs.io/)"
   ]
  },
  {
   "cell_type": "markdown",
   "metadata": {},
   "source": [
    "## Dependencies\n",
    "\n",
    "- [kafka-python](https://pypi.org/project/kafka-python/) Python client for the Apache Kafka distributed stream processing system. kafka-python is designed to function much like the official java client, with a sprinkling of pythonic interfaces (e.g., consumer iterators).\n",
    "- [boto3](https://pypi.org/project/boto3/) Boto3 is the Amazon Web Services (AWS) Software Development Kit (SDK) for Python. which allows Python developers to write software that makes use of services like Amazon S3 and Amazon EC2.  Can also be used to connect to other S3 API compatible storage.\n",
    "\n",
    "*Note:  In general, you want to manage your dependencies in a `requirements.txt` file. For easy demonstration, we've installed the libraries inline here.*\n"
   ]
  },
  {
   "cell_type": "code",
   "execution_count": null,
   "metadata": {},
   "outputs": [],
   "source": [
    "!pip install kafka-python\n",
    "!pip install boto3"
   ]
  },
  {
   "cell_type": "markdown",
   "metadata": {},
   "source": [
    "## Connection Information\n",
    "\n",
    "Generally, much of your connection information (servers, username,  password) will be injected as environment variables.  This prevents a user from uploading private information to source control.\n",
    "\n",
    "#### Expected Environment Variables\n",
    "- `KAFKA_BOOTSTRAP_SERVER` location of the Kafka Bootstrap Server.  e.g. 'my-kafka-bootstrap.namespace.svc.cluster.local:9092'\n",
    "- `KAFKA_TOPIC` Name of Kafka topic to consume messages from.\n",
    "- `AWS_ACCESS_KEY_ID` S3 Key.  e.g. 'BKIAI4VI8CXLOWIZ5BGR'\n",
    "- `AWS_SECRET_ACCESS_KEY` S3 Secret.  e.g. 'mdIRYm4nCpu/G7Wf5QhCC+RI/s92+vHF68n3T9mH'\n",
    "- `AWS_BUCKET` Bucket name e.g. 'my-bucket'\n",
    "- `AWS_PREFIX` Path like prefix for files e.g. '/dir/subdir/'\n"
   ]
  },
  {
   "cell_type": "code",
   "execution_count": null,
   "metadata": {},
   "outputs": [],
   "source": [
    "import os\n",
    "\n",
    "# location of the Kafka Bootstrap Server loaded from the environment variable.\n",
    "# e.g. 'my-kafka-bootstrap.namespace.svc.cluster.local:9092'\n",
    "KAFKA_BOOTSTRAP_SERVER = os.environ.get('KAFKA_BOOTSTRAP_SERVER')\n",
    "\n",
    "# Name of the topic which the consumer will subscribe\n",
    "KAFKA_TOPIC = os.environ.get('KAFKA_TOPIC') or 'notebook-test'\n",
    "\n",
    "# Kafka consumer group to which this consumer belongs\n",
    "KAFKA_CONSUMER_GROUP = 'notebook-consumer-save-s3'\n",
    "\n",
    "# AWS credentials\n",
    "AWS_ACCESS_KEY_ID = os.environ.get('AWS_ACCESS_KEY_ID')\n",
    "AWS_SECRET_ACCESS_KEY = os.environ.get('AWS_SECRET_ACCESS_KEY')\n",
    "\n",
    "# AWS bucket and path like prefix\n",
    "AWS_BUCKET = os.environ.get('AWS_BUCKET')\n",
    "AWS_PREFIX = os.environ.get('AWS_PREFIX')\n"
   ]
  },
  {
   "cell_type": "markdown",
   "metadata": {},
   "source": [
    "### Create the S3 Resource\n",
    "\n",
    "To connect to Ceph or other S3 API compatible storage, you'll need to specify `endpoint_url` but for AWS, you can omit that parameter\n",
    "\n",
    "```python\n",
    "session = boto3.session.Session(aws_access_key_id='',\n",
    "                                aws_secret_access_key='')\n",
    "\n",
    "s3_resource = session.resource(\n",
    "    's3',\n",
    "    config=botocore.client.Config(signature_version='s3v4'),\n",
    "    endpoint_url='https://s3.amazonaws.com',\n",
    "    region_name='us-east-1')\n",
    ")\n",
    "```"
   ]
  },
  {
   "cell_type": "code",
   "execution_count": null,
   "metadata": {},
   "outputs": [],
   "source": [
    "import os\n",
    "import boto3\n",
    "import botocore\n",
    "\n",
    "key_id = os.environ.get('AWS_ACCESS_KEY_ID')\n",
    "secret_key = os.environ.get('AWS_SECRET_ACCESS_KEY')\n",
    "\n",
    "session = boto3.session.Session(aws_access_key_id=key_id,\n",
    "                                aws_secret_access_key=secret_key)\n",
    "\n",
    "s3_resource = session.resource(\n",
    "    's3',\n",
    "    config=botocore.client.Config(signature_version='s3v4')\n",
    ")\n"
   ]
  },
  {
   "cell_type": "markdown",
   "metadata": {},
   "source": [
    "## Creating the Consumer\n",
    "\n",
    "This function will create a consumer that connects to the Kafka server set by variable `KAFKA_BOOTSTRAP_SERVER` and listen to the topic set by variable `KAFKA_TOPIC`.  The consumer receive and save messages to S3 storage.  The consumer will run until the kernel is stopped."
   ]
  },
  {
   "cell_type": "code",
   "execution_count": null,
   "metadata": {},
   "outputs": [],
   "source": [
    "from kafka import KafkaConsumer\n",
    "import json\n",
    "\n",
    "def create_consumer_save_s3():\n",
    "    consumer = KafkaConsumer(KAFKA_TOPIC,\n",
    "                             group_id=KAFKA_CONSUMER_GROUP,\n",
    "                             bootstrap_servers=[KAFKA_BOOTSTRAP_SERVER],\n",
    "                             security_protocol='PLAINTEXT',\n",
    "                             auto_offset_reset='earliest',\n",
    "                             api_version_auto_timeout_ms=30000,\n",
    "                             request_timeout_ms=450000)\n",
    "\n",
    "    print(f'Subscribed to \"{KAFKA_BOOTSTRAP_SERVER}\" consuming topic \"{KAFKA_TOPIC}\"...')\n",
    "\n",
    "    bucket = s3_resource.Bucket(AWS_BUCKET)\n",
    "\n",
    "    try:\n",
    "        for record in consumer:\n",
    "            timestamp = record.timestamp\n",
    "            filename = f'{AWS_PREFIX}/kafka-messages/{timestamp}.json'\n",
    "            msg = record.value.decode('utf-8')\n",
    "            print(f'Writing msg to s3:\"{AWS_BUCKET}/{filename}\"')\n",
    "            json_obj = bucket.Object(filename)\n",
    "            json_obj.put(Body=msg)\n",
    "\n",
    "\n",
    "    finally:\n",
    "        print(\"Closing consumer...\")\n",
    "        consumer.close()\n",
    "    print(\"Kafka consumer stopped.\")\n",
    "\n"
   ]
  },
  {
   "cell_type": "markdown",
   "metadata": {},
   "source": [
    "## Start Listening\n",
    "\n",
    "Starts the consumer.  Listens to events and saves the values to the S3 storage.  **Stop the kernel to quit**"
   ]
  },
  {
   "cell_type": "code",
   "execution_count": null,
   "metadata": {},
   "outputs": [],
   "source": [
    "\n",
    "try:\n",
    "    create_consumer_save_s3()\n",
    "except KeyboardInterrupt:\n",
    "    print('Stopped')\n"
   ]
  }
 ],
 "metadata": {
  "kernelspec": {
   "display_name": "Python 3",
   "language": "python",
   "name": "python3"
  },
  "language_info": {
   "codemirror_mode": {
    "name": "ipython",
    "version": 3
   },
   "file_extension": ".py",
   "mimetype": "text/x-python",
   "name": "python",
   "nbconvert_exporter": "python",
   "pygments_lexer": "ipython3",
   "version": "3.8.3"
  }
 },
 "nbformat": 4,
 "nbformat_minor": 4
}